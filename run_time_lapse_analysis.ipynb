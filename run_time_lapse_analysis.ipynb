{
 "cells": [
  {
   "cell_type": "code",
   "execution_count": null,
   "metadata": {},
   "outputs": [],
   "source": [
    "import label_operations as lo\n",
    "import matplotlib.pyplot as plt\n",
    "import lineage_tracking as lt\n",
    "import warnings\n",
    "import fluorescence_stats as fl\n",
    "warnings.filterwarnings(\"ignore\")\n",
    "import pickle"
   ]
  },
  {
   "cell_type": "code",
   "execution_count": null,
   "metadata": {},
   "outputs": [],
   "source": [
    "cell_path_prefix = '/Volumes/Data_01/Alex Papagiannakis/Microscopy/Ribosome_synthesis_degradation_rates/Chloramphenicol/TIF_images/01242025_CJW7323_Ceph50_Chlor70_5min_int_TIF/01242025_CJW7323_xy'\n",
    "results_path = '/Volumes/Data_01/Alex Papagiannakis/Microscopy/Ribosome_synthesis_degradation_rates/Chloramphenicol/Results'\n",
    "fluor_object_dict = {}\n",
    "for pos in range(1,10):\n",
    "    cell_labels_path = cell_path_prefix + str(pos)+'_c1'\n",
    "    images_paths = {}\n",
    "    images_paths['Phase'] = cell_path_prefix + str(pos)+'_c1'\n",
    "    images_paths['GFP'] = cell_path_prefix + str(pos)+'_c2'\n",
    "    images_paths['mCherry'] = cell_path_prefix + str(pos)+'_c3'\n",
    "    file_suffix = '_mask'\n",
    "    fluor_interval = 2\n",
    "    experiment = '01242025_CJW7323_xy' + str(pos)\n",
    "    \n",
    "    fluor_object_dict[experiment] = fl.fluorescence_analysis(cell_labels_path, file_suffix, images_paths, fluor_interval)\n",
    "    fluor = fluor_object_dict[experiment]\n",
    "    \n",
    "    track_df = fluor.get_tracked_labels()\n",
    "    track_df['experiment'] = experiment\n",
    "    track_df.to_pickle(results_path+'/'+experiment+'_track_df', compression='zip')\n",
    "    \n",
    "    medial_axis_dict, oned_coords_dict = fl.get_oned_fluorescence_stats(fluor.get_tracked_labels(), \n",
    "                                                                    fluor.get_bkg_corrected_images(), \n",
    "                                                                    fluor.get_cropped_masks(),  \n",
    "                                                                    fluor.get_fluorescence_channels(),\n",
    "                                                                    fluor.get_long_trajectories()\n",
    "                                                                    )\n",
    "    \n",
    "    with open(results_path+'/'+experiment+'_oned_coords_dict', 'wb') as handle:\n",
    "        pickle.dump(oned_coords_dict, handle)\n",
    "    \n",
    "    with open(results_path+'/'+experiment+'_medial_axis_dict', 'wb') as handle:\n",
    "        pickle.dump(medial_axis_dict, handle)\n"
   ]
  }
 ],
 "metadata": {
  "kernelspec": {
   "display_name": "base",
   "language": "python",
   "name": "python3"
  },
  "language_info": {
   "codemirror_mode": {
    "name": "ipython",
    "version": 3
   },
   "file_extension": ".py",
   "mimetype": "text/x-python",
   "name": "python",
   "nbconvert_exporter": "python",
   "pygments_lexer": "ipython3",
   "version": "3.12.4"
  }
 },
 "nbformat": 4,
 "nbformat_minor": 2
}
